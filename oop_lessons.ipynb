{
 "cells": [
  {
   "cell_type": "markdown",
   "metadata": {},
   "source": [
    "create empty class and name it as \"Cats\"."
   ]
  },
  {
   "cell_type": "code",
   "execution_count": 1,
   "metadata": {},
   "outputs": [],
   "source": [
    "class Cats:\n",
    "    pass"
   ]
  },
  {
   "cell_type": "markdown",
   "metadata": {},
   "source": [
    "declare fields(\"variables\") for class "
   ]
  },
  {
   "cell_type": "code",
   "execution_count": 4,
   "metadata": {},
   "outputs": [],
   "source": [
    "class Cats:\n",
    "    name = None\n",
    "    age = None\n",
    "    is_hungry = None\n",
    "    color = None\n",
    "\n",
    "    "
   ]
  },
  {
   "cell_type": "markdown",
   "metadata": {},
   "source": [
    "make first object based on class 'Cats'"
   ]
  },
  {
   "cell_type": "code",
   "execution_count": 5,
   "metadata": {},
   "outputs": [],
   "source": [
    "class Cats:\n",
    "    name = None\n",
    "    age = None\n",
    "    is_hungry = None\n",
    "    color = None\n",
    "\n",
    "cat1 = Cats()\n",
    "cat1.name = \"Kitty\"\n",
    "cat1.age = 10\n",
    "cat1.is_hungry = True\n",
    "cat1.color = \"Black\"\n"
   ]
  },
  {
   "cell_type": "code",
   "execution_count": 1,
   "metadata": {},
   "outputs": [
    {
     "name": "stdout",
     "output_type": "stream",
     "text": [
      "<__main__.Cats object at 0x000001F4297890A0>\n",
      "Kitty\n"
     ]
    }
   ],
   "source": [
    "class Cats:\n",
    "    name = None\n",
    "    age = None\n",
    "    is_hungry = None\n",
    "    color = None\n",
    "\n",
    "cat1 = Cats()\n",
    "cat1.name = \"Kitty\"\n",
    "cat1.age = 10\n",
    "cat1.is_hungry = True\n",
    "cat1.color = \"Black\"\n",
    "\n",
    "print(cat1)\n",
    "print(cat1.name)"
   ]
  },
  {
   "cell_type": "code",
   "execution_count": 6,
   "metadata": {},
   "outputs": [
    {
     "name": "stdout",
     "output_type": "stream",
     "text": [
      "<__main__.Cats object at 0x0000022625092D50>\n",
      "<__main__.Cats object at 0x0000022623D39670>\n",
      "Kitty\n",
      "Kitty 15 False Brown\n"
     ]
    }
   ],
   "source": [
    "class Cats:\n",
    "    name = None\n",
    "    age = None\n",
    "    is_hungry = None\n",
    "    color = None\n",
    "\n",
    "cat1 = Cats()\n",
    "cat1.name = \"Kitty\"\n",
    "cat1.age = 10\n",
    "cat1.is_hungry = True\n",
    "cat1.color = \"Black\"\n",
    "\n",
    "cat2 = Cats()\n",
    "cat2.name = \"Kitty\"\n",
    "cat2.age = 15\n",
    "cat2.is_hungry = False\n",
    "cat2.color = \"Brown\"\n",
    "\n",
    "print(cat1)\n",
    "print(cat2)\n",
    "print(cat1.name)\n",
    "print(cat2.name, cat2.age, cat2.is_hungry, cat2.color)"
   ]
  },
  {
   "cell_type": "code",
   "execution_count": 9,
   "metadata": {},
   "outputs": [
    {
     "name": "stdout",
     "output_type": "stream",
     "text": [
      "Tom 15 True orange\n",
      "jerry 2 False purple\n"
     ]
    }
   ],
   "source": [
    "class Cats:\n",
    "    name = None\n",
    "    age = None\n",
    "    is_hungry = None\n",
    "    color = None\n",
    "\n",
    "    def set_data(self, name, age, is_hungry, color):\n",
    "        self.name = name\n",
    "        self.age = age\n",
    "        self.is_hungry = is_hungry\n",
    "        self.color = color\n",
    "\n",
    "cat3 = Cats()\n",
    "cat3.set_data(\"Tom\", 15, True, \"orange\")\n",
    "print(cat3.name, cat3.age, cat3.is_hungry, cat3.color)\n",
    "cat4 = Cats()\n",
    "cat4.set_data(\"jerry\", 2, False, \"purple\")\n",
    "print(cat4.name, cat4.age, cat4.is_hungry, cat4.color)"
   ]
  },
  {
   "cell_type": "code",
   "execution_count": 10,
   "metadata": {},
   "outputs": [
    {
     "name": "stdout",
     "output_type": "stream",
     "text": [
      "Tom 5 True orange\n",
      "None 6 green\n"
     ]
    }
   ],
   "source": [
    "class Cats:\n",
    "    name = None\n",
    "    age = None\n",
    "    is_hungry = None\n",
    "    color = None\n",
    "\n",
    "    def set_data(self, name, age, is_hungry, color):\n",
    "        self.name = name\n",
    "        self.age = age\n",
    "        self.is_hungry = is_hungry\n",
    "        self.color = color\n",
    "\n",
    "    def get_data(self):\n",
    "        print(self.name, self.age, self.is_hungry, self.color)\n",
    "    \n",
    "    def test_set(self,a,b,c):\n",
    "        a = self.name\n",
    "        self.age = b\n",
    "        self.color = c\n",
    "    def test_get(self):\n",
    "        print(self.name,self.age,self.color)   \n",
    "cat3 = Cats()\n",
    "cat3.set_data(\"Tom\", 5, True, \"orange\")\n",
    "cat3.get_data()\n",
    "\n",
    "cat4 = Cats()\n",
    "cat4.test_set(\"jibo\",6,\"green\")\n",
    "cat4.test_get()"
   ]
  },
  {
   "cell_type": "code",
   "execution_count": 3,
   "metadata": {},
   "outputs": [
    {
     "name": "stdout",
     "output_type": "stream",
     "text": [
      "name:Tom, age:5, food:True, color:orange\n"
     ]
    }
   ],
   "source": [
    "class Cats:\n",
    "    name = None\n",
    "    age = None\n",
    "    is_hungry = None\n",
    "    color = None\n",
    "\n",
    "    def set_data(self, name, age, is_hungry, color):\n",
    "        self.name = name\n",
    "        self.age = age\n",
    "        self.is_hungry = is_hungry\n",
    "        self.color = color\n",
    "\n",
    "    def get_data(self):\n",
    "        print(f\"name:{self.name}, age:{self.age}, food:{self.is_hungry}, color:{self.color}\")  \n",
    "cat3 = Cats()\n",
    "cat3.set_data(\"Tom\", 5, True, \"orange\")\n",
    "cat3.get_data()"
   ]
  },
  {
   "cell_type": "markdown",
   "metadata": {},
   "source": [
    "constructors"
   ]
  },
  {
   "cell_type": "code",
   "execution_count": null,
   "metadata": {},
   "outputs": [],
   "source": [
    "def __init__(self):\n",
    "    pass"
   ]
  },
  {
   "cell_type": "code",
   "execution_count": 7,
   "metadata": {},
   "outputs": [
    {
     "name": "stdout",
     "output_type": "stream",
     "text": [
      "name:lulu, age:7, food:True, color:redish\n"
     ]
    }
   ],
   "source": [
    "class Cats:\n",
    "    name = None\n",
    "    age = None\n",
    "    is_hungry = None\n",
    "    color = None\n",
    "    \n",
    "    def __init__(self,name, age,is_hungry,color):\n",
    "        self.name = name\n",
    "        self.age = age\n",
    "        self.is_hungry = is_hungry\n",
    "        self.color = color\n",
    "        \n",
    "        \n",
    "        \n",
    "    def set_data(self, name, age, is_hungry, color):\n",
    "        self.name = name\n",
    "        self.age = age\n",
    "        self.is_hungry = is_hungry\n",
    "        self.color = color\n",
    "    def get_data(self):\n",
    "        print(f\"name:{self.name}, age:{self.age}, food:{self.is_hungry}, color:{self.color}\") \n",
    "\n",
    "cat1 = Cats(\"lulu\",7,True,\"redish\")\n",
    "\n",
    "cat1.get_data()"
   ]
  },
  {
   "cell_type": "code",
   "execution_count": 14,
   "metadata": {},
   "outputs": [
    {
     "name": "stdout",
     "output_type": "stream",
     "text": [
      "name:lulu, age:7, food:True, color:redish\n",
      "name:Mery, age:2, food:False, color:grey\n"
     ]
    }
   ],
   "source": [
    "class Cats:\n",
    "    name = None\n",
    "    age = None\n",
    "    is_hungry = None\n",
    "    color = None\n",
    "    \n",
    "    def __init__(self,name, age,is_hungry,color):\n",
    "        self.set_data(name, age, is_hungry, color)\n",
    "        self.get_data()\n",
    "    \n",
    "    \n",
    "    def set_data(self, name, age, is_hungry, color):\n",
    "        self.name = name\n",
    "        self.age = age\n",
    "        self.is_hungry = is_hungry\n",
    "        self.color = color\n",
    "            \n",
    "    def get_data(self):\n",
    "        print(f\"name:{self.name}, age:{self.age}, food:{self.is_hungry}, color:{self.color}\") \n",
    "\n",
    "cat1 = Cats(\"lulu\",7,True,\"redish\")\n",
    "cat2 = Cats(\"Mery\",2,False,\"grey\")\n",
    "\n"
   ]
  },
  {
   "cell_type": "markdown",
   "metadata": {},
   "source": [
    "updateeeeeeeee"
   ]
  }
 ],
 "metadata": {
  "kernelspec": {
   "display_name": "Python 3",
   "language": "python",
   "name": "python3"
  },
  "language_info": {
   "codemirror_mode": {
    "name": "ipython",
    "version": 3
   },
   "file_extension": ".py",
   "mimetype": "text/x-python",
   "name": "python",
   "nbconvert_exporter": "python",
   "pygments_lexer": "ipython3",
   "version": "3.12.3"
  }
 },
 "nbformat": 4,
 "nbformat_minor": 2
}
