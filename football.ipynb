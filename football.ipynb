{
 "cells": [
  {
   "cell_type": "markdown",
   "metadata": {},
   "source": [
    "შევქმნათ კლასი 'Footballer'. PEP8-ის მიხედვით კლასის სახელი უნდა შეიცავდეს მხოლოდ ასოებს, იწყებოდეს მთავრული სიმბოლოთი და უნდა იყოს მხოლობით რიცხვში. კლასის სახელის ბოლოს იწერება ორწერტილის ':' სიმბოლო."
   ]
  },
  {
   "cell_type": "code",
   "execution_count": null,
   "metadata": {},
   "outputs": [],
   "source": [
    "class Footballer:\n",
    "    def __init__(self, name, surname, age, number):\n",
    "        self.name = name\n",
    "        self.surname = surname\n",
    "        self.age = age\n",
    "        self.number = number\n",
    "        "
   ]
  },
  {
   "cell_type": "markdown",
   "metadata": {},
   "source": [
    "კონსტრუქტორი __init__() Footballer კლასის თითოეული ობიექტისთვის ადგენს მითითებული ატრიბუტების მნიშვნელობებს . \n",
    "ფეხბურთელთა ყოველ ახალ ობიექტს ექნება სახელი self.name, გვარი self.surname, ასაკი self.age და მაისურის ნომერი self.number. ეს ატრიბუტები დგინდება ობიექტის შექმნისთანავე. მაგ:"
   ]
  },
  {
   "cell_type": "code",
   "execution_count": 1,
   "metadata": {},
   "outputs": [],
   "source": [
    "class Footballer:\n",
    "    def __init__(self, name, surname, age, number):\n",
    "        self.name = name\n",
    "        self.surname = surname\n",
    "        self.age = age\n",
    "        self.number = number\n",
    "\n",
    "kvara = Footballer(\"Khvicha\", \"Kvaratskhelia\", 23, \"7\")"
   ]
  },
  {
   "cell_type": "markdown",
   "metadata": {},
   "source": [
    "კლასს დავუმატოთ მოქმედება, ფეხბურთელის სრული სახელის გამოტანის სახით. ამისთვის ვქმნით მეთოდს get_full_name() "
   ]
  },
  {
   "cell_type": "code",
   "execution_count": 1,
   "metadata": {},
   "outputs": [
    {
     "name": "stdout",
     "output_type": "stream",
     "text": [
      "Khvicha Kvaratskhelia\n"
     ]
    }
   ],
   "source": [
    "class Footballer:\n",
    "    def __init__(self, name, surname, age, number):\n",
    "        self.name = name\n",
    "        self.surname = surname\n",
    "        self.age = age\n",
    "        self.number = number\n",
    "    def get_full_name(self):\n",
    "        return f'{self.name} {self.surname}'\n",
    "\n",
    "kvara = Footballer(\"Khvicha\", \"Kvaratskhelia\", 23, \"7\")\n",
    "print(kvara.get_full_name())"
   ]
  },
  {
   "cell_type": "markdown",
   "metadata": {},
   "source": [
    "ამოცანა: დაამატეთ ორი ობიექტი ფეხბურთელების სახით, და დაამატეთ მეთოდები: ასაკის და ნომრის ცალცალკე გამოსატანად. ასევე დააამატეთ მეთოდი რომელიც გამოიტანს ატრიბუტრბს შემდეგი ფორმით: სახელი: Khvicha Kvaratskhelia, ასაკი: 23, ნაკრებში მაისურის ნომერი: \"7\""
   ]
  },
  {
   "cell_type": "markdown",
   "metadata": {},
   "source": [
    "გუნდში თითოეულ ფეხბურთელს გააჩნია თავისი სათამაშო ფუნქცია, მცველი, ფორვადი, ნახევარდაცვა და სხვა. მაგრამ ჩვენ შეგვიძლია საწყის ატრიბუტად გამოვიყენოთ სათადარიგო სკამი(bench)"
   ]
  },
  {
   "cell_type": "code",
   "execution_count": 3,
   "metadata": {},
   "outputs": [
    {
     "name": "stdout",
     "output_type": "stream",
     "text": [
      "Khvicha Kvaratskhelia\n",
      "backup\n",
      "backup\n",
      "<function Footballer.get_full_name at 0x0000017BA859A200>\n"
     ]
    }
   ],
   "source": [
    "class Footballer:\n",
    "    starting_position = \"backup\"\n",
    "    def __init__(self, name, surname, age, number):\n",
    "        self.name = name\n",
    "        self.surname = surname\n",
    "        self.age = age\n",
    "        self.number = number\n",
    "    def get_full_name(self):\n",
    "        return f'{self.name} {self.surname}'\n",
    "\n",
    "kvara = Footballer(\"Khvicha\", \"Kvaratskhelia\", 23, \"7\")\n",
    "print(kvara.get_full_name())\n",
    "print(kvara.starting_position)\n",
    "print(Footballer.starting_position)\n"
   ]
  },
  {
   "cell_type": "markdown",
   "metadata": {},
   "source": [
    "print(kvara.starting_position) და print(Footballer.starting_position) ორივე ერთი და იგივე პასუხს გვაძლევს, მაგრამ პირველი კითხულობს კლასის ეგზემპლიარის(ობიექტის) ატრიბუტს, ხოლო მეორე კლასის ატრიბუტის საწყის მნიშვნელობას."
   ]
  },
  {
   "cell_type": "markdown",
   "metadata": {},
   "source": [
    "მინდა ყურადღება გავამახვილო შემდეგ მომენტზე: \n",
    "მეთოდის გამოცხადებისას პირველი და აუცილებელი არგუმენტი, რაც მას გადაეცემა არის self, მაგრამ მეთოდის გამოძახებისას ამ არგუმენტის მითითება არ გვჭირდება. პითონის ინტერპრეტატორი თვითონ გადააწვდის ამ არგუმენტს როგორც პირველს. ეს საჭიროა იმისთვის რომ, მეთოდმა იმუშავოს იმ მონაცემებთან რაც  გამომძახებელ ობიექტს(self) გააჩნია. "
   ]
  },
  {
   "cell_type": "markdown",
   "metadata": {},
   "source": [
    "სტანდარტით, ყველა მეთოდი რომელი ცხადდება კლასში, მიბმულია კლასის ეკზემპლარზე. თუმცა @classmethod დეკორატორის მეშვეობით შეგვიძლია, გამოვაცხადოთ მეთოდი რომელიც მიბმული იქნება უშუალოდ კლასსზე. ასეთ მეთოდებს კლასის მეთოდები ეწოდება. "
   ]
  },
  {
   "cell_type": "code",
   "execution_count": 7,
   "metadata": {},
   "outputs": [
    {
     "name": "stdout",
     "output_type": "stream",
     "text": [
      "backup\n",
      "goalkeeper\n"
     ]
    }
   ],
   "source": [
    "class Footballer:\n",
    "    starting_position = \"backup\"\n",
    "    def __init__(self, name, surname, age, number):\n",
    "        self.name = name\n",
    "        self.surname = surname\n",
    "        self.age = age\n",
    "        self.number = number\n",
    "    def get_full_name(self):\n",
    "        return f'{self.name} {self.surname}'\n",
    "    # მეთოდი კლასისთვის\n",
    "    @classmethod\n",
    "    def get_starting_position(cls):\n",
    "        return cls.starting_position\n",
    "    @classmethod\n",
    "    def set_starting_position(cls, position):\n",
    "        cls.starting_position = position\n",
    "\n",
    "kvara = Footballer(\"Khvicha\", \"Kvaratskhelia\", 23, \"7\")\n",
    "\n",
    "print(Footballer.get_starting_position())\n",
    "\n",
    "Footballer.set_starting_position(\"goalkeeper\")\n",
    "print(Footballer.get_starting_position())\n"
   ]
  }
 ],
 "metadata": {
  "kernelspec": {
   "display_name": "Python 3",
   "language": "python",
   "name": "python3"
  },
  "language_info": {
   "codemirror_mode": {
    "name": "ipython",
    "version": 3
   },
   "file_extension": ".py",
   "mimetype": "text/x-python",
   "name": "python",
   "nbconvert_exporter": "python",
   "pygments_lexer": "ipython3",
   "version": "3.12.3"
  }
 },
 "nbformat": 4,
 "nbformat_minor": 2
}
